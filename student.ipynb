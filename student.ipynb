{
 "cells": [
  {
   "cell_type": "code",
   "execution_count": 1,
   "metadata": {},
   "outputs": [
    {
     "name": "stdout",
     "output_type": "stream",
     "text": [
      "100% [........................................................................] 16339802 / 16339802"
     ]
    }
   ],
   "source": [
    "from get_data import generate_cell_data\n",
    "\n",
    "generate_cell_data()"
   ]
  },
  {
   "cell_type": "code",
   "execution_count": 2,
   "metadata": {},
   "outputs": [
    {
     "name": "stdout",
     "output_type": "stream",
     "text": [
      "Using device: cuda\n",
      "\n",
      "GeForce RTX 3070\n",
      "Memory Usage:\n",
      "Allocated: 0.0 GB\n",
      "Cached:    0.0 GB\n"
     ]
    }
   ],
   "source": [
    "import torch\n",
    "from gpu_test import get_device\n",
    "\n",
    "#Getting GPU for training\n",
    "\n",
    "device = get_device()"
   ]
  },
  {
   "cell_type": "code",
   "execution_count": 4,
   "metadata": {},
   "outputs": [
    {
     "name": "stdout",
     "output_type": "stream",
     "text": [
      "Epoch 1\n",
      "\n"
     ]
    },
    {
     "data": {
      "image/png": "[encoded data removed]",
      "text/plain": [
       "<Figure size 432x288 with 4 Axes>"
      ]
     },
     "metadata": {
      "needs_background": "light"
     },
     "output_type": "display_data"
    },
    {
     "name": "stdout",
     "output_type": "stream",
     "text": [
      "Train:\n",
      "\tAverage loss: 12.9940\n",
      "\tMean error: -24.653\n",
      "\tMean absolute error: 280.902\n",
      "\tError deviation: 46.606\n"
     ]
    },
    {
     "data": {
      "text/plain": [
       "<Figure size 432x288 with 0 Axes>"
      ]
     },
     "metadata": {},
     "output_type": "display_data"
    },
    {
     "name": "stdout",
     "output_type": "stream",
     "text": [
      "Valid:\n",
      "\tAverage loss: 15.0359\n",
      "\tMean error: 1179.588\n",
      "\tMean absolute error: 1179.588\n",
      "\tError deviation: 63.077\n",
      "\n",
      "New best result: 1179.5883861868722\n",
      "\n",
      "--------------------------------------------------------------------------------\n",
      "\n",
      "Epoch 2\n",
      "\n"
     ]
    },
    {
     "data": {
      "text/plain": [
       "<Figure size 432x288 with 0 Axes>"
      ]
     },
     "metadata": {},
     "output_type": "display_data"
    },
    {
     "name": "stdout",
     "output_type": "stream",
     "text": [
      "Train:\n",
      "\tAverage loss: 8.8285\n",
      "\tMean error: 16.061\n",
      "\tMean absolute error: 128.183\n",
      "\tError deviation: 20.799\n"
     ]
    },
    {
     "data": {
      "text/plain": [
       "<Figure size 432x288 with 0 Axes>"
      ]
     },
     "metadata": {},
     "output_type": "display_data"
    },
    {
     "name": "stdout",
     "output_type": "stream",
     "text": [
      "Valid:\n",
      "\tAverage loss: 8.5646\n",
      "\tMean error: 568.299\n",
      "\tMean absolute error: 568.299\n",
      "\tError deviation: 32.983\n",
      "\n",
      "New best result: 568.2986593191965\n",
      "\n",
      "--------------------------------------------------------------------------------\n",
      "\n",
      "Epoch 3\n",
      "\n"
     ]
    },
    {
     "data": {
      "text/plain": [
       "<Figure size 432x288 with 0 Axes>"
      ]
     },
     "metadata": {},
     "output_type": "display_data"
    },
    {
     "name": "stdout",
     "output_type": "stream",
     "text": [
      "Train:\n",
      "\tAverage loss: 7.0457\n",
      "\tMean error: -26.180\n",
      "\tMean absolute error: 94.645\n",
      "\tError deviation: 16.533\n"
     ]
    },
    {
     "data": {
      "text/plain": [
       "<Figure size 432x288 with 0 Axes>"
      ]
     },
     "metadata": {},
     "output_type": "display_data"
    },
    {
     "name": "stdout",
     "output_type": "stream",
     "text": [
      "Valid:\n",
      "\tAverage loss: 6.9630\n",
      "\tMean error: -149.402\n",
      "\tMean absolute error: 149.402\n",
      "\tError deviation: 5.871\n",
      "\n",
      "New best result: 149.40187709263392\n",
      "\n",
      "--------------------------------------------------------------------------------\n",
      "\n",
      "Epoch 4\n",
      "\n"
     ]
    },
    {
     "data": {
      "text/plain": [
       "<Figure size 432x288 with 0 Axes>"
      ]
     },
     "metadata": {},
     "output_type": "display_data"
    },
    {
     "name": "stdout",
     "output_type": "stream",
     "text": [
      "Train:\n",
      "\tAverage loss: 5.9790\n",
      "\tMean error: 43.506\n",
      "\tMean absolute error: 91.367\n",
      "\tError deviation: 15.634\n"
     ]
    },
    {
     "data": {
      "text/plain": [
       "<Figure size 432x288 with 0 Axes>"
      ]
     },
     "metadata": {},
     "output_type": "display_data"
    },
    {
     "name": "stdout",
     "output_type": "stream",
     "text": [
      "Valid:\n",
      "\tAverage loss: 5.5114\n",
      "\tMean error: -97.779\n",
      "\tMean absolute error: 97.779\n",
      "\tError deviation: 7.574\n",
      "\n",
      "New best result: 97.77901576450894\n",
      "\n",
      "--------------------------------------------------------------------------------\n",
      "\n",
      "Epoch 5\n",
      "\n"
     ]
    },
    {
     "data": {
      "text/plain": [
       "<Figure size 432x288 with 0 Axes>"
      ]
     },
     "metadata": {},
     "output_type": "display_data"
    },
    {
     "name": "stdout",
     "output_type": "stream",
     "text": [
      "Train:\n",
      "\tAverage loss: 5.3263\n",
      "\tMean error: 43.575\n",
      "\tMean absolute error: 87.262\n",
      "\tError deviation: 15.131\n"
     ]
    },
    {
     "data": {
      "text/plain": [
       "<Figure size 432x288 with 0 Axes>"
      ]
     },
     "metadata": {},
     "output_type": "display_data"
    },
    {
     "name": "stdout",
     "output_type": "stream",
     "text": [
      "Valid:\n",
      "\tAverage loss: 4.9860\n",
      "\tMean error: -54.902\n",
      "\tMean absolute error: 55.153\n",
      "\tError deviation: 4.803\n",
      "\n",
      "New best result: 55.15253487723216\n",
      "\n",
      "--------------------------------------------------------------------------------\n",
      "\n",
      "Epoch 6\n",
      "\n"
     ]
    },
    {
     "data": {
      "text/plain": [
       "<Figure size 432x288 with 0 Axes>"
      ]
     },
     "metadata": {},
     "output_type": "display_data"
    },
    {
     "name": "stdout",
     "output_type": "stream",
     "text": [
      "Train:\n",
      "\tAverage loss: 4.7705\n",
      "\tMean error: 49.781\n",
      "\tMean absolute error: 87.985\n",
      "\tError deviation: 15.186\n"
     ]
    },
    {
     "data": {
      "text/plain": [
       "<Figure size 432x288 with 0 Axes>"
      ]
     },
     "metadata": {},
     "output_type": "display_data"
    },
    {
     "name": "stdout",
     "output_type": "stream",
     "text": [
      "Valid:\n",
      "\tAverage loss: 8.5605\n",
      "\tMean error: -253.606\n",
      "\tMean absolute error: 253.606\n",
      "\tError deviation: 15.504\n",
      "\n",
      "--------------------------------------------------------------------------------\n",
      "\n",
      "Epoch 7\n",
      "\n"
     ]
    },
    {
     "data": {
      "text/plain": [
       "<Figure size 432x288 with 0 Axes>"
      ]
     },
     "metadata": {},
     "output_type": "display_data"
    },
    {
     "name": "stdout",
     "output_type": "stream",
     "text": [
      "Train:\n",
      "\tAverage loss: 5.6005\n",
      "\tMean error: 40.795\n",
      "\tMean absolute error: 82.561\n",
      "\tError deviation: 14.492\n"
     ]
    },
    {
     "data": {
      "text/plain": [
       "<Figure size 432x288 with 0 Axes>"
      ]
     },
     "metadata": {},
     "output_type": "display_data"
    },
    {
     "name": "stdout",
     "output_type": "stream",
     "text": [
      "Valid:\n",
      "\tAverage loss: 6.4495\n",
      "\tMean error: 271.373\n",
      "\tMean absolute error: 271.373\n",
      "\tError deviation: 18.310\n",
      "\n",
      "--------------------------------------------------------------------------------\n",
      "\n",
      "Epoch 8\n",
      "\n"
     ]
    },
    {
     "data": {
      "text/plain": [
       "<Figure size 432x288 with 0 Axes>"
      ]
     },
     "metadata": {},
     "output_type": "display_data"
    },
    {
     "name": "stdout",
     "output_type": "stream",
     "text": [
      "Train:\n",
      "\tAverage loss: 4.1467\n",
      "\tMean error: 87.558\n",
      "\tMean absolute error: 107.911\n",
      "\tError deviation: 16.512\n"
     ]
    },
    {
     "data": {
      "text/plain": [
       "<Figure size 432x288 with 0 Axes>"
      ]
     },
     "metadata": {},
     "output_type": "display_data"
    },
    {
     "name": "stdout",
     "output_type": "stream",
     "text": [
      "Valid:\n",
      "\tAverage loss: 4.4008\n",
      "\tMean error: 210.013\n",
      "\tMean absolute error: 210.013\n",
      "\tError deviation: 14.664\n",
      "\n",
      "--------------------------------------------------------------------------------\n",
      "\n",
      "Epoch 9\n",
      "\n"
     ]
    },
    {
     "data": {
      "text/plain": [
       "<Figure size 432x288 with 0 Axes>"
      ]
     },
     "metadata": {},
     "output_type": "display_data"
    },
    {
     "name": "stdout",
     "output_type": "stream",
     "text": [
      "Train:\n",
      "\tAverage loss: 3.5685\n",
      "\tMean error: 32.036\n",
      "\tMean absolute error: 74.586\n",
      "\tError deviation: 14.232\n"
     ]
    },
    {
     "data": {
      "text/plain": [
       "<Figure size 432x288 with 0 Axes>"
      ]
     },
     "metadata": {},
     "output_type": "display_data"
    },
    {
     "name": "stdout",
     "output_type": "stream",
     "text": [
      "Valid:\n",
      "\tAverage loss: 4.5487\n",
      "\tMean error: 328.085\n",
      "\tMean absolute error: 328.085\n",
      "\tError deviation: 21.733\n",
      "\n",
      "--------------------------------------------------------------------------------\n",
      "\n",
      "Epoch 10\n",
      "\n"
     ]
    },
    {
     "data": {
      "text/plain": [
       "<Figure size 432x288 with 0 Axes>"
      ]
     },
     "metadata": {},
     "output_type": "display_data"
    },
    {
     "name": "stdout",
     "output_type": "stream",
     "text": [
      "Train:\n",
      "\tAverage loss: 3.8971\n",
      "\tMean error: 54.880\n",
      "\tMean absolute error: 86.172\n",
      "\tError deviation: 15.455\n"
     ]
    },
    {
     "data": {
      "text/plain": [
       "<Figure size 432x288 with 0 Axes>"
      ]
     },
     "metadata": {},
     "output_type": "display_data"
    },
    {
     "name": "stdout",
     "output_type": "stream",
     "text": [
      "Valid:\n",
      "\tAverage loss: 9.0515\n",
      "\tMean error: 323.896\n",
      "\tMean absolute error: 323.896\n",
      "\tError deviation: 23.150\n",
      "\n",
      "--------------------------------------------------------------------------------\n",
      "\n",
      "Epoch 11\n",
      "\n"
     ]
    },
    {
     "data": {
      "text/plain": [
       "<Figure size 432x288 with 0 Axes>"
      ]
     },
     "metadata": {},
     "output_type": "display_data"
    },
    {
     "name": "stdout",
     "output_type": "stream",
     "text": [
      "Train:\n",
      "\tAverage loss: 5.5979\n",
      "\tMean error: 92.565\n",
      "\tMean absolute error: 119.757\n",
      "\tError deviation: 16.325\n"
     ]
    },
    {
     "data": {
      "text/plain": [
       "<Figure size 432x288 with 0 Axes>"
      ]
     },
     "metadata": {},
     "output_type": "display_data"
    },
    {
     "name": "stdout",
     "output_type": "stream",
     "text": [
      "Valid:\n",
      "\tAverage loss: 6.2324\n",
      "\tMean error: -101.070\n",
      "\tMean absolute error: 101.070\n",
      "\tError deviation: 4.277\n",
      "\n",
      "--------------------------------------------------------------------------------\n",
      "\n",
      "Epoch 12\n",
      "\n"
     ]
    },
    {
     "data": {
      "text/plain": [
       "<Figure size 432x288 with 0 Axes>"
      ]
     },
     "metadata": {},
     "output_type": "display_data"
    },
    {
     "name": "stdout",
     "output_type": "stream",
     "text": [
      "Train:\n",
      "\tAverage loss: 4.2259\n",
      "\tMean error: 93.026\n",
      "\tMean absolute error: 110.558\n",
      "\tError deviation: 15.131\n"
     ]
    },
    {
     "data": {
      "text/plain": [
       "<Figure size 432x288 with 0 Axes>"
      ]
     },
     "metadata": {},
     "output_type": "display_data"
    },
    {
     "name": "stdout",
     "output_type": "stream",
     "text": [
      "Valid:\n",
      "\tAverage loss: 4.6975\n",
      "\tMean error: 358.074\n",
      "\tMean absolute error: 358.074\n",
      "\tError deviation: 21.420\n",
      "\n",
      "--------------------------------------------------------------------------------\n",
      "\n",
      "Epoch 13\n",
      "\n"
     ]
    },
    {
     "data": {
      "text/plain": [
       "<Figure size 432x288 with 0 Axes>"
      ]
     },
     "metadata": {},
     "output_type": "display_data"
    },
    {
     "name": "stdout",
     "output_type": "stream",
     "text": [
      "Train:\n",
      "\tAverage loss: 2.5482\n",
      "\tMean error: 44.157\n",
      "\tMean absolute error: 78.898\n",
      "\tError deviation: 13.353\n"
     ]
    },
    {
     "data": {
      "text/plain": [
       "<Figure size 432x288 with 0 Axes>"
      ]
     },
     "metadata": {},
     "output_type": "display_data"
    },
    {
     "name": "stdout",
     "output_type": "stream",
     "text": [
      "Valid:\n",
      "\tAverage loss: 3.9699\n",
      "\tMean error: 78.484\n",
      "\tMean absolute error: 78.484\n",
      "\tError deviation: 6.662\n",
      "\n",
      "--------------------------------------------------------------------------------\n",
      "\n",
      "Epoch 14\n",
      "\n"
     ]
    },
    {
     "data": {
      "text/plain": [
       "<Figure size 432x288 with 0 Axes>"
      ]
     },
     "metadata": {},
     "output_type": "display_data"
    },
    {
     "name": "stdout",
     "output_type": "stream",
     "text": [
      "Train:\n",
      "\tAverage loss: 2.2396\n",
      "\tMean error: 47.078\n",
      "\tMean absolute error: 82.419\n",
      "\tError deviation: 13.904\n"
     ]
    },
    {
     "data": {
      "text/plain": [
       "<Figure size 432x288 with 0 Axes>"
      ]
     },
     "metadata": {},
     "output_type": "display_data"
    },
    {
     "name": "stdout",
     "output_type": "stream",
     "text": [
      "Valid:\n",
      "\tAverage loss: 4.1506\n",
      "\tMean error: 63.461\n",
      "\tMean absolute error: 63.936\n",
      "\tError deviation: 7.095\n",
      "\n",
      "--------------------------------------------------------------------------------\n",
      "\n",
      "Epoch 15\n",
      "\n"
     ]
    },
    {
     "data": {
      "text/plain": [
       "<Figure size 432x288 with 0 Axes>"
      ]
     },
     "metadata": {},
     "output_type": "display_data"
    },
    {
     "name": "stdout",
     "output_type": "stream",
     "text": [
      "Train:\n",
      "\tAverage loss: 2.4731\n",
      "\tMean error: 57.834\n",
      "\tMean absolute error: 86.585\n",
      "\tError deviation: 13.969\n"
     ]
    },
    {
     "data": {
      "text/plain": [
       "<Figure size 432x288 with 0 Axes>"
      ]
     },
     "metadata": {},
     "output_type": "display_data"
    },
    {
     "name": "stdout",
     "output_type": "stream",
     "text": [
      "Valid:\n",
      "\tAverage loss: 6.3027\n",
      "\tMean error: 270.296\n",
      "\tMean absolute error: 270.296\n",
      "\tError deviation: 18.356\n",
      "\n",
      "--------------------------------------------------------------------------------\n",
      "\n",
      "Epoch 16\n",
      "\n"
     ]
    },
    {
     "data": {
      "text/plain": [
       "<Figure size 432x288 with 0 Axes>"
      ]
     },
     "metadata": {},
     "output_type": "display_data"
    },
    {
     "name": "stdout",
     "output_type": "stream",
     "text": [
      "Train:\n",
      "\tAverage loss: 3.2689\n",
      "\tMean error: 67.087\n",
      "\tMean absolute error: 90.542\n",
      "\tError deviation: 13.392\n"
     ]
    },
    {
     "data": {
      "text/plain": [
       "<Figure size 432x288 with 0 Axes>"
      ]
     },
     "metadata": {},
     "output_type": "display_data"
    },
    {
     "name": "stdout",
     "output_type": "stream",
     "text": [
      "Valid:\n",
      "\tAverage loss: 6.6829\n",
      "\tMean error: 246.751\n",
      "\tMean absolute error: 246.751\n",
      "\tError deviation: 21.749\n",
      "\n",
      "--------------------------------------------------------------------------------\n",
      "\n",
      "Epoch 17\n",
      "\n"
     ]
    },
    {
     "data": {
      "text/plain": [
       "<Figure size 432x288 with 0 Axes>"
      ]
     },
     "metadata": {},
     "output_type": "display_data"
    },
    {
     "name": "stdout",
     "output_type": "stream",
     "text": [
      "Train:\n",
      "\tAverage loss: 2.3658\n",
      "\tMean error: 72.344\n",
      "\tMean absolute error: 90.400\n",
      "\tError deviation: 13.197\n"
     ]
    },
    {
     "data": {
      "text/plain": [
       "<Figure size 432x288 with 0 Axes>"
      ]
     },
     "metadata": {},
     "output_type": "display_data"
    },
    {
     "name": "stdout",
     "output_type": "stream",
     "text": [
      "Valid:\n",
      "\tAverage loss: 6.0078\n",
      "\tMean error: 130.568\n",
      "\tMean absolute error: 130.568\n",
      "\tError deviation: 14.355\n",
      "\n",
      "--------------------------------------------------------------------------------\n",
      "\n",
      "Epoch 18\n",
      "\n"
     ]
    },
    {
     "data": {
      "text/plain": [
       "<Figure size 432x288 with 0 Axes>"
      ]
     },
     "metadata": {},
     "output_type": "display_data"
    },
    {
     "name": "stdout",
     "output_type": "stream",
     "text": [
      "Train:\n",
      "\tAverage loss: 2.3649\n",
      "\tMean error: 40.270\n",
      "\tMean absolute error: 74.247\n",
      "\tError deviation: 12.905\n"
     ]
    },
    {
     "data": {
      "text/plain": [
       "<Figure size 432x288 with 0 Axes>"
      ]
     },
     "metadata": {},
     "output_type": "display_data"
    },
    {
     "name": "stdout",
     "output_type": "stream",
     "text": [
      "Valid:\n",
      "\tAverage loss: 5.0681\n",
      "\tMean error: 207.466\n",
      "\tMean absolute error: 207.466\n",
      "\tError deviation: 13.076\n",
      "\n",
      "--------------------------------------------------------------------------------\n",
      "\n",
      "Epoch 19\n",
      "\n"
     ]
    },
    {
     "data": {
      "text/plain": [
       "<Figure size 432x288 with 0 Axes>"
      ]
     },
     "metadata": {},
     "output_type": "display_data"
    },
    {
     "name": "stdout",
     "output_type": "stream",
     "text": [
      "Train:\n",
      "\tAverage loss: 2.5789\n",
      "\tMean error: 67.396\n",
      "\tMean absolute error: 93.304\n",
      "\tError deviation: 14.185\n"
     ]
    },
    {
     "data": {
      "text/plain": [
       "<Figure size 432x288 with 0 Axes>"
      ]
     },
     "metadata": {},
     "output_type": "display_data"
    },
    {
     "name": "stdout",
     "output_type": "stream",
     "text": [
      "Valid:\n",
      "\tAverage loss: 4.5521\n",
      "\tMean error: 248.220\n",
      "\tMean absolute error: 248.220\n",
      "\tError deviation: 15.955\n",
      "\n",
      "--------------------------------------------------------------------------------\n",
      "\n",
      "Epoch 20\n",
      "\n"
     ]
    },
    {
     "data": {
      "text/plain": [
       "<Figure size 432x288 with 0 Axes>"
      ]
     },
     "metadata": {},
     "output_type": "display_data"
    },
    {
     "name": "stdout",
     "output_type": "stream",
     "text": [
      "Train:\n",
      "\tAverage loss: 2.4876\n",
      "\tMean error: 55.541\n",
      "\tMean absolute error: 83.633\n",
      "\tError deviation: 13.691\n"
     ]
    },
    {
     "data": {
      "text/plain": [
       "<Figure size 432x288 with 0 Axes>"
      ]
     },
     "metadata": {},
     "output_type": "display_data"
    },
    {
     "name": "stdout",
     "output_type": "stream",
     "text": [
      "Valid:\n",
      "\tAverage loss: 4.5028\n",
      "\tMean error: 126.407\n",
      "\tMean absolute error: 126.407\n",
      "\tError deviation: 10.422\n",
      "\n",
      "--------------------------------------------------------------------------------\n",
      "\n",
      "Epoch 21\n",
      "\n"
     ]
    },
    {
     "data": {
      "text/plain": [
       "<Figure size 432x288 with 0 Axes>"
      ]
     },
     "metadata": {},
     "output_type": "display_data"
    },
    {
     "name": "stdout",
     "output_type": "stream",
     "text": [
      "Train:\n",
      "\tAverage loss: 1.6399\n",
      "\tMean error: 56.796\n",
      "\tMean absolute error: 82.313\n",
      "\tError deviation: 13.430\n"
     ]
    },
    {
     "data": {
      "text/plain": [
       "<Figure size 432x288 with 0 Axes>"
      ]
     },
     "metadata": {},
     "output_type": "display_data"
    },
    {
     "name": "stdout",
     "output_type": "stream",
     "text": [
      "Valid:\n",
      "\tAverage loss: 3.9935\n",
      "\tMean error: 170.332\n",
      "\tMean absolute error: 170.332\n",
      "\tError deviation: 12.745\n",
      "\n",
      "--------------------------------------------------------------------------------\n",
      "\n",
      "Epoch 22\n",
      "\n"
     ]
    },
    {
     "data": {
      "text/plain": [
       "<Figure size 432x288 with 0 Axes>"
      ]
     },
     "metadata": {},
     "output_type": "display_data"
    },
    {
     "name": "stdout",
     "output_type": "stream",
     "text": [
      "Train:\n",
      "\tAverage loss: 1.2292\n",
      "\tMean error: 59.437\n",
      "\tMean absolute error: 81.130\n",
      "\tError deviation: 12.829\n"
     ]
    },
    {
     "data": {
      "text/plain": [
       "<Figure size 432x288 with 0 Axes>"
      ]
     },
     "metadata": {},
     "output_type": "display_data"
    },
    {
     "name": "stdout",
     "output_type": "stream",
     "text": [
      "Valid:\n",
      "\tAverage loss: 3.8916\n",
      "\tMean error: 134.402\n",
      "\tMean absolute error: 134.402\n",
      "\tError deviation: 10.589\n",
      "\n",
      "--------------------------------------------------------------------------------\n",
      "\n",
      "Epoch 23\n",
      "\n"
     ]
    },
    {
     "data": {
      "text/plain": [
       "<Figure size 432x288 with 0 Axes>"
      ]
     },
     "metadata": {},
     "output_type": "display_data"
    },
    {
     "name": "stdout",
     "output_type": "stream",
     "text": [
      "Train:\n",
      "\tAverage loss: 1.1095\n",
      "\tMean error: 54.176\n",
      "\tMean absolute error: 78.282\n",
      "\tError deviation: 12.868\n"
     ]
    },
    {
     "data": {
      "text/plain": [
       "<Figure size 432x288 with 0 Axes>"
      ]
     },
     "metadata": {},
     "output_type": "display_data"
    },
    {
     "name": "stdout",
     "output_type": "stream",
     "text": [
      "Valid:\n",
      "\tAverage loss: 3.8997\n",
      "\tMean error: 133.283\n",
      "\tMean absolute error: 133.283\n",
      "\tError deviation: 10.292\n",
      "\n",
      "--------------------------------------------------------------------------------\n",
      "\n",
      "Epoch 24\n",
      "\n"
     ]
    },
    {
     "data": {
      "text/plain": [
       "<Figure size 432x288 with 0 Axes>"
      ]
     },
     "metadata": {},
     "output_type": "display_data"
    },
    {
     "name": "stdout",
     "output_type": "stream",
     "text": [
      "Train:\n",
      "\tAverage loss: 1.0426\n",
      "\tMean error: 48.813\n",
      "\tMean absolute error: 75.147\n",
      "\tError deviation: 12.790\n"
     ]
    },
    {
     "data": {
      "text/plain": [
       "<Figure size 432x288 with 0 Axes>"
      ]
     },
     "metadata": {},
     "output_type": "display_data"
    },
    {
     "name": "stdout",
     "output_type": "stream",
     "text": [
      "Valid:\n",
      "\tAverage loss: 3.9133\n",
      "\tMean error: 124.320\n",
      "\tMean absolute error: 124.320\n",
      "\tError deviation: 10.349\n",
      "\n",
      "--------------------------------------------------------------------------------\n",
      "\n",
      "Epoch 25\n",
      "\n"
     ]
    },
    {
     "data": {
      "text/plain": [
       "<Figure size 432x288 with 0 Axes>"
      ]
     },
     "metadata": {},
     "output_type": "display_data"
    },
    {
     "name": "stdout",
     "output_type": "stream",
     "text": [
      "Train:\n",
      "\tAverage loss: 0.9919\n",
      "\tMean error: 45.061\n",
      "\tMean absolute error: 73.337\n",
      "\tError deviation: 12.734\n"
     ]
    },
    {
     "data": {
      "text/plain": [
       "<Figure size 432x288 with 0 Axes>"
      ]
     },
     "metadata": {},
     "output_type": "display_data"
    },
    {
     "name": "stdout",
     "output_type": "stream",
     "text": [
      "Valid:\n",
      "\tAverage loss: 3.9308\n",
      "\tMean error: 120.556\n",
      "\tMean absolute error: 120.556\n",
      "\tError deviation: 10.070\n",
      "\n",
      "--------------------------------------------------------------------------------\n",
      "\n",
      "Epoch 26\n",
      "\n"
     ]
    },
    {
     "data": {
      "text/plain": [
       "<Figure size 432x288 with 0 Axes>"
      ]
     },
     "metadata": {},
     "output_type": "display_data"
    },
    {
     "name": "stdout",
     "output_type": "stream",
     "text": [
      "Train:\n",
      "\tAverage loss: 0.9506\n",
      "\tMean error: 42.472\n",
      "\tMean absolute error: 72.040\n",
      "\tError deviation: 12.724\n"
     ]
    },
    {
     "data": {
      "text/plain": [
       "<Figure size 432x288 with 0 Axes>"
      ]
     },
     "metadata": {},
     "output_type": "display_data"
    },
    {
     "name": "stdout",
     "output_type": "stream",
     "text": [
      "Valid:\n",
      "\tAverage loss: 3.9448\n",
      "\tMean error: 120.592\n",
      "\tMean absolute error: 120.592\n",
      "\tError deviation: 10.178\n",
      "\n",
      "--------------------------------------------------------------------------------\n",
      "\n",
      "Epoch 27\n",
      "\n"
     ]
    },
    {
     "data": {
      "text/plain": [
       "<Figure size 432x288 with 0 Axes>"
      ]
     },
     "metadata": {},
     "output_type": "display_data"
    },
    {
     "name": "stdout",
     "output_type": "stream",
     "text": [
      "Train:\n",
      "\tAverage loss: 0.9152\n",
      "\tMean error: 41.133\n",
      "\tMean absolute error: 71.387\n",
      "\tError deviation: 12.706\n"
     ]
    },
    {
     "data": {
      "text/plain": [
       "<Figure size 432x288 with 0 Axes>"
      ]
     },
     "metadata": {},
     "output_type": "display_data"
    },
    {
     "name": "stdout",
     "output_type": "stream",
     "text": [
      "Valid:\n",
      "\tAverage loss: 3.9589\n",
      "\tMean error: 119.676\n",
      "\tMean absolute error: 119.676\n",
      "\tError deviation: 10.225\n",
      "\n",
      "--------------------------------------------------------------------------------\n",
      "\n",
      "Epoch 28\n",
      "\n"
     ]
    },
    {
     "data": {
      "text/plain": [
       "<Figure size 432x288 with 0 Axes>"
      ]
     },
     "metadata": {},
     "output_type": "display_data"
    },
    {
     "name": "stdout",
     "output_type": "stream",
     "text": [
      "Train:\n",
      "\tAverage loss: 0.8839\n",
      "\tMean error: 40.491\n",
      "\tMean absolute error: 71.072\n",
      "\tError deviation: 12.693\n"
     ]
    },
    {
     "data": {
      "text/plain": [
       "<Figure size 432x288 with 0 Axes>"
      ]
     },
     "metadata": {},
     "output_type": "display_data"
    },
    {
     "name": "stdout",
     "output_type": "stream",
     "text": [
      "Valid:\n",
      "\tAverage loss: 3.9717\n",
      "\tMean error: 120.183\n",
      "\tMean absolute error: 120.183\n",
      "\tError deviation: 10.306\n",
      "\n",
      "--------------------------------------------------------------------------------\n",
      "\n",
      "Epoch 29\n",
      "\n"
     ]
    },
    {
     "data": {
      "text/plain": [
       "<Figure size 432x288 with 0 Axes>"
      ]
     },
     "metadata": {},
     "output_type": "display_data"
    },
    {
     "name": "stdout",
     "output_type": "stream",
     "text": [
      "Train:\n",
      "\tAverage loss: 0.8556\n",
      "\tMean error: 40.357\n",
      "\tMean absolute error: 70.973\n",
      "\tError deviation: 12.686\n"
     ]
    },
    {
     "data": {
      "text/plain": [
       "<Figure size 432x288 with 0 Axes>"
      ]
     },
     "metadata": {},
     "output_type": "display_data"
    },
    {
     "name": "stdout",
     "output_type": "stream",
     "text": [
      "Valid:\n",
      "\tAverage loss: 3.9845\n",
      "\tMean error: 120.062\n",
      "\tMean absolute error: 120.062\n",
      "\tError deviation: 10.369\n",
      "\n",
      "--------------------------------------------------------------------------------\n",
      "\n",
      "Epoch 30\n",
      "\n"
     ]
    },
    {
     "data": {
      "text/plain": [
       "<Figure size 432x288 with 0 Axes>"
      ]
     },
     "metadata": {},
     "output_type": "display_data"
    },
    {
     "name": "stdout",
     "output_type": "stream",
     "text": [
      "Train:\n",
      "\tAverage loss: 0.8299\n",
      "\tMean error: 40.376\n",
      "\tMean absolute error: 70.909\n",
      "\tError deviation: 12.672\n"
     ]
    },
    {
     "data": {
      "text/plain": [
       "<Figure size 432x288 with 0 Axes>"
      ]
     },
     "metadata": {},
     "output_type": "display_data"
    },
    {
     "name": "stdout",
     "output_type": "stream",
     "text": [
      "Valid:\n",
      "\tAverage loss: 3.9959\n",
      "\tMean error: 121.103\n",
      "\tMean absolute error: 121.103\n",
      "\tError deviation: 10.490\n",
      "\n",
      "--------------------------------------------------------------------------------\n",
      "\n",
      "Epoch 31\n",
      "\n"
     ]
    },
    {
     "data": {
      "text/plain": [
       "<Figure size 432x288 with 0 Axes>"
      ]
     },
     "metadata": {},
     "output_type": "display_data"
    },
    {
     "name": "stdout",
     "output_type": "stream",
     "text": [
      "Train:\n",
      "\tAverage loss: 0.8063\n",
      "\tMean error: 40.684\n",
      "\tMean absolute error: 70.991\n",
      "\tError deviation: 12.662\n"
     ]
    },
    {
     "data": {
      "text/plain": [
       "<Figure size 432x288 with 0 Axes>"
      ]
     },
     "metadata": {},
     "output_type": "display_data"
    },
    {
     "name": "stdout",
     "output_type": "stream",
     "text": [
      "Valid:\n",
      "\tAverage loss: 4.0070\n",
      "\tMean error: 121.740\n",
      "\tMean absolute error: 121.740\n",
      "\tError deviation: 10.594\n",
      "\n",
      "--------------------------------------------------------------------------------\n",
      "\n",
      "Epoch 32\n",
      "\n"
     ]
    },
    {
     "data": {
      "text/plain": [
       "<Figure size 432x288 with 0 Axes>"
      ]
     },
     "metadata": {},
     "output_type": "display_data"
    },
    {
     "name": "stdout",
     "output_type": "stream",
     "text": [
      "Train:\n",
      "\tAverage loss: 0.7844\n",
      "\tMean error: 41.044\n",
      "\tMean absolute error: 71.100\n",
      "\tError deviation: 12.652\n"
     ]
    },
    {
     "data": {
      "text/plain": [
       "<Figure size 432x288 with 0 Axes>"
      ]
     },
     "metadata": {},
     "output_type": "display_data"
    },
    {
     "name": "stdout",
     "output_type": "stream",
     "text": [
      "Valid:\n",
      "\tAverage loss: 4.0172\n",
      "\tMean error: 122.616\n",
      "\tMean absolute error: 122.616\n",
      "\tError deviation: 10.689\n",
      "\n",
      "--------------------------------------------------------------------------------\n",
      "\n",
      "Epoch 33\n",
      "\n"
     ]
    },
    {
     "data": {
      "text/plain": [
       "<Figure size 432x288 with 0 Axes>"
      ]
     },
     "metadata": {},
     "output_type": "display_data"
    },
    {
     "name": "stdout",
     "output_type": "stream",
     "text": [
      "Train:\n",
      "\tAverage loss: 0.7640\n",
      "\tMean error: 41.459\n",
      "\tMean absolute error: 71.245\n",
      "\tError deviation: 12.644\n"
     ]
    },
    {
     "data": {
      "text/plain": [
       "<Figure size 432x288 with 0 Axes>"
      ]
     },
     "metadata": {},
     "output_type": "display_data"
    },
    {
     "name": "stdout",
     "output_type": "stream",
     "text": [
      "Valid:\n",
      "\tAverage loss: 4.0274\n",
      "\tMean error: 123.864\n",
      "\tMean absolute error: 123.864\n",
      "\tError deviation: 10.808\n",
      "\n",
      "--------------------------------------------------------------------------------\n",
      "\n",
      "Epoch 34\n",
      "\n"
     ]
    },
    {
     "data": {
      "text/plain": [
       "<Figure size 432x288 with 0 Axes>"
      ]
     },
     "metadata": {},
     "output_type": "display_data"
    },
    {
     "name": "stdout",
     "output_type": "stream",
     "text": [
      "Train:\n",
      "\tAverage loss: 0.7449\n",
      "\tMean error: 41.975\n",
      "\tMean absolute error: 71.441\n",
      "\tError deviation: 12.637\n"
     ]
    },
    {
     "data": {
      "text/plain": [
       "<Figure size 432x288 with 0 Axes>"
      ]
     },
     "metadata": {},
     "output_type": "display_data"
    },
    {
     "name": "stdout",
     "output_type": "stream",
     "text": [
      "Valid:\n",
      "\tAverage loss: 4.0378\n",
      "\tMean error: 124.607\n",
      "\tMean absolute error: 124.607\n",
      "\tError deviation: 10.889\n",
      "\n",
      "--------------------------------------------------------------------------------\n",
      "\n",
      "Epoch 35\n",
      "\n"
     ]
    },
    {
     "data": {
      "text/plain": [
       "<Figure size 432x288 with 0 Axes>"
      ]
     },
     "metadata": {},
     "output_type": "display_data"
    },
    {
     "name": "stdout",
     "output_type": "stream",
     "text": [
      "Train:\n",
      "\tAverage loss: 0.7269\n",
      "\tMean error: 42.446\n",
      "\tMean absolute error: 71.603\n",
      "\tError deviation: 12.630\n"
     ]
    },
    {
     "data": {
      "text/plain": [
       "<Figure size 432x288 with 0 Axes>"
      ]
     },
     "metadata": {},
     "output_type": "display_data"
    },
    {
     "name": "stdout",
     "output_type": "stream",
     "text": [
      "Valid:\n",
      "\tAverage loss: 4.0475\n",
      "\tMean error: 125.716\n",
      "\tMean absolute error: 125.716\n",
      "\tError deviation: 10.997\n",
      "\n",
      "--------------------------------------------------------------------------------\n",
      "\n",
      "Epoch 36\n",
      "\n"
     ]
    },
    {
     "data": {
      "text/plain": [
       "<Figure size 432x288 with 0 Axes>"
      ]
     },
     "metadata": {},
     "output_type": "display_data"
    },
    {
     "name": "stdout",
     "output_type": "stream",
     "text": [
      "Train:\n",
      "\tAverage loss: 0.7100\n",
      "\tMean error: 42.943\n",
      "\tMean absolute error: 71.791\n",
      "\tError deviation: 12.624\n"
     ]
    },
    {
     "data": {
      "text/plain": [
       "<Figure size 432x288 with 0 Axes>"
      ]
     },
     "metadata": {},
     "output_type": "display_data"
    },
    {
     "name": "stdout",
     "output_type": "stream",
     "text": [
      "Valid:\n",
      "\tAverage loss: 4.0569\n",
      "\tMean error: 126.706\n",
      "\tMean absolute error: 126.706\n",
      "\tError deviation: 11.109\n",
      "\n",
      "--------------------------------------------------------------------------------\n",
      "\n",
      "Epoch 37\n",
      "\n"
     ]
    },
    {
     "data": {
      "text/plain": [
       "<Figure size 432x288 with 0 Axes>"
      ]
     },
     "metadata": {},
     "output_type": "display_data"
    },
    {
     "name": "stdout",
     "output_type": "stream",
     "text": [
      "Train:\n",
      "\tAverage loss: 0.6939\n",
      "\tMean error: 43.405\n",
      "\tMean absolute error: 71.950\n",
      "\tError deviation: 12.618\n"
     ]
    },
    {
     "data": {
      "text/plain": [
       "<Figure size 432x288 with 0 Axes>"
      ]
     },
     "metadata": {},
     "output_type": "display_data"
    },
    {
     "name": "stdout",
     "output_type": "stream",
     "text": [
      "Valid:\n",
      "\tAverage loss: 4.0663\n",
      "\tMean error: 126.811\n",
      "\tMean absolute error: 126.811\n",
      "\tError deviation: 11.164\n",
      "\n",
      "--------------------------------------------------------------------------------\n",
      "\n",
      "Epoch 38\n",
      "\n"
     ]
    },
    {
     "data": {
      "text/plain": [
       "<Figure size 432x288 with 0 Axes>"
      ]
     },
     "metadata": {},
     "output_type": "display_data"
    },
    {
     "name": "stdout",
     "output_type": "stream",
     "text": [
      "Train:\n",
      "\tAverage loss: 0.6786\n",
      "\tMean error: 43.875\n",
      "\tMean absolute error: 72.121\n",
      "\tError deviation: 12.614\n"
     ]
    },
    {
     "data": {
      "text/plain": [
       "<Figure size 432x288 with 0 Axes>"
      ]
     },
     "metadata": {},
     "output_type": "display_data"
    },
    {
     "name": "stdout",
     "output_type": "stream",
     "text": [
      "Valid:\n",
      "\tAverage loss: 4.0752\n",
      "\tMean error: 128.199\n",
      "\tMean absolute error: 128.199\n",
      "\tError deviation: 11.284\n",
      "\n",
      "--------------------------------------------------------------------------------\n",
      "\n",
      "Epoch 39\n",
      "\n"
     ]
    },
    {
     "data": {
      "text/plain": [
       "<Figure size 432x288 with 0 Axes>"
      ]
     },
     "metadata": {},
     "output_type": "display_data"
    },
    {
     "name": "stdout",
     "output_type": "stream",
     "text": [
      "Train:\n",
      "\tAverage loss: 0.6640\n",
      "\tMean error: 44.290\n",
      "\tMean absolute error: 72.248\n",
      "\tError deviation: 12.606\n"
     ]
    },
    {
     "data": {
      "text/plain": [
       "<Figure size 432x288 with 0 Axes>"
      ]
     },
     "metadata": {},
     "output_type": "display_data"
    },
    {
     "name": "stdout",
     "output_type": "stream",
     "text": [
      "Valid:\n",
      "\tAverage loss: 4.0838\n",
      "\tMean error: 129.455\n",
      "\tMean absolute error: 129.455\n",
      "\tError deviation: 11.400\n",
      "\n",
      "--------------------------------------------------------------------------------\n",
      "\n",
      "Epoch 40\n",
      "\n"
     ]
    },
    {
     "data": {
      "text/plain": [
       "<Figure size 432x288 with 0 Axes>"
      ]
     },
     "metadata": {},
     "output_type": "display_data"
    },
    {
     "name": "stdout",
     "output_type": "stream",
     "text": [
      "Train:\n",
      "\tAverage loss: 0.6501\n",
      "\tMean error: 44.753\n",
      "\tMean absolute error: 72.427\n",
      "\tError deviation: 12.601\n"
     ]
    },
    {
     "data": {
      "text/plain": [
       "<Figure size 432x288 with 0 Axes>"
      ]
     },
     "metadata": {},
     "output_type": "display_data"
    },
    {
     "name": "stdout",
     "output_type": "stream",
     "text": [
      "Valid:\n",
      "\tAverage loss: 4.0927\n",
      "\tMean error: 129.809\n",
      "\tMean absolute error: 129.809\n",
      "\tError deviation: 11.459\n",
      "\n",
      "--------------------------------------------------------------------------------\n",
      "\n",
      "Epoch 41\n",
      "\n"
     ]
    },
    {
     "data": {
      "text/plain": [
       "<Figure size 432x288 with 0 Axes>"
      ]
     },
     "metadata": {},
     "output_type": "display_data"
    },
    {
     "name": "stdout",
     "output_type": "stream",
     "text": [
      "Train:\n",
      "\tAverage loss: 0.6311\n",
      "\tMean error: 43.794\n",
      "\tMean absolute error: 71.547\n",
      "\tError deviation: 12.472\n"
     ]
    },
    {
     "data": {
      "text/plain": [
       "<Figure size 432x288 with 0 Axes>"
      ]
     },
     "metadata": {},
     "output_type": "display_data"
    },
    {
     "name": "stdout",
     "output_type": "stream",
     "text": [
      "Valid:\n",
      "\tAverage loss: 4.1006\n",
      "\tMean error: 127.172\n",
      "\tMean absolute error: 127.172\n",
      "\tError deviation: 11.458\n",
      "\n",
      "--------------------------------------------------------------------------------\n",
      "\n",
      "Epoch 42\n",
      "\n"
     ]
    },
    {
     "data": {
      "text/plain": [
       "<Figure size 432x288 with 0 Axes>"
      ]
     },
     "metadata": {},
     "output_type": "display_data"
    },
    {
     "name": "stdout",
     "output_type": "stream",
     "text": [
      "Train:\n",
      "\tAverage loss: 0.6290\n",
      "\tMean error: 43.935\n",
      "\tMean absolute error: 71.588\n",
      "\tError deviation: 12.479\n"
     ]
    },
    {
     "data": {
      "text/plain": [
       "<Figure size 432x288 with 0 Axes>"
      ]
     },
     "metadata": {},
     "output_type": "display_data"
    },
    {
     "name": "stdout",
     "output_type": "stream",
     "text": [
      "Valid:\n",
      "\tAverage loss: 4.1023\n",
      "\tMean error: 126.805\n",
      "\tMean absolute error: 126.805\n",
      "\tError deviation: 11.520\n",
      "\n",
      "--------------------------------------------------------------------------------\n",
      "\n",
      "Epoch 43\n",
      "\n"
     ]
    },
    {
     "data": {
      "text/plain": [
       "<Figure size 432x288 with 0 Axes>"
      ]
     },
     "metadata": {},
     "output_type": "display_data"
    },
    {
     "name": "stdout",
     "output_type": "stream",
     "text": [
      "Train:\n",
      "\tAverage loss: 0.6275\n",
      "\tMean error: 44.113\n",
      "\tMean absolute error: 71.663\n",
      "\tError deviation: 12.484\n"
     ]
    },
    {
     "data": {
      "text/plain": [
       "<Figure size 432x288 with 0 Axes>"
      ]
     },
     "metadata": {},
     "output_type": "display_data"
    },
    {
     "name": "stdout",
     "output_type": "stream",
     "text": [
      "Valid:\n",
      "\tAverage loss: 4.1035\n",
      "\tMean error: 127.103\n",
      "\tMean absolute error: 127.103\n",
      "\tError deviation: 11.583\n",
      "\n",
      "--------------------------------------------------------------------------------\n",
      "\n",
      "Epoch 44\n",
      "\n"
     ]
    },
    {
     "data": {
      "text/plain": [
       "<Figure size 432x288 with 0 Axes>"
      ]
     },
     "metadata": {},
     "output_type": "display_data"
    },
    {
     "name": "stdout",
     "output_type": "stream",
     "text": [
      "Train:\n",
      "\tAverage loss: 0.6261\n",
      "\tMean error: 44.319\n",
      "\tMean absolute error: 71.758\n",
      "\tError deviation: 12.487\n"
     ]
    },
    {
     "data": {
      "text/plain": [
       "<Figure size 432x288 with 0 Axes>"
      ]
     },
     "metadata": {},
     "output_type": "display_data"
    },
    {
     "name": "stdout",
     "output_type": "stream",
     "text": [
      "Valid:\n",
      "\tAverage loss: 4.1049\n",
      "\tMean error: 127.247\n",
      "\tMean absolute error: 127.247\n",
      "\tError deviation: 11.617\n",
      "\n",
      "--------------------------------------------------------------------------------\n",
      "\n",
      "Epoch 45\n",
      "\n"
     ]
    },
    {
     "data": {
      "text/plain": [
       "<Figure size 432x288 with 0 Axes>"
      ]
     },
     "metadata": {},
     "output_type": "display_data"
    },
    {
     "name": "stdout",
     "output_type": "stream",
     "text": [
      "Train:\n",
      "\tAverage loss: 0.6248\n",
      "\tMean error: 44.481\n",
      "\tMean absolute error: 71.832\n",
      "\tError deviation: 12.488\n"
     ]
    },
    {
     "data": {
      "text/plain": [
       "<Figure size 432x288 with 0 Axes>"
      ]
     },
     "metadata": {},
     "output_type": "display_data"
    },
    {
     "name": "stdout",
     "output_type": "stream",
     "text": [
      "Valid:\n",
      "\tAverage loss: 4.1063\n",
      "\tMean error: 127.305\n",
      "\tMean absolute error: 127.305\n",
      "\tError deviation: 11.635\n",
      "\n",
      "--------------------------------------------------------------------------------\n",
      "\n",
      "Epoch 46\n",
      "\n"
     ]
    },
    {
     "data": {
      "text/plain": [
       "<Figure size 432x288 with 0 Axes>"
      ]
     },
     "metadata": {},
     "output_type": "display_data"
    },
    {
     "name": "stdout",
     "output_type": "stream",
     "text": [
      "Train:\n",
      "\tAverage loss: 0.6236\n",
      "\tMean error: 44.599\n",
      "\tMean absolute error: 71.882\n",
      "\tError deviation: 12.489\n"
     ]
    },
    {
     "data": {
      "text/plain": [
       "<Figure size 432x288 with 0 Axes>"
      ]
     },
     "metadata": {},
     "output_type": "display_data"
    },
    {
     "name": "stdout",
     "output_type": "stream",
     "text": [
      "Valid:\n",
      "\tAverage loss: 4.1075\n",
      "\tMean error: 127.393\n",
      "\tMean absolute error: 127.393\n",
      "\tError deviation: 11.652\n",
      "\n",
      "--------------------------------------------------------------------------------\n",
      "\n",
      "Epoch 47\n",
      "\n"
     ]
    },
    {
     "data": {
      "text/plain": [
       "<Figure size 432x288 with 0 Axes>"
      ]
     },
     "metadata": {},
     "output_type": "display_data"
    },
    {
     "name": "stdout",
     "output_type": "stream",
     "text": [
      "Train:\n",
      "\tAverage loss: 0.6223\n",
      "\tMean error: 44.684\n",
      "\tMean absolute error: 71.919\n",
      "\tError deviation: 12.490\n"
     ]
    },
    {
     "data": {
      "text/plain": [
       "<Figure size 432x288 with 0 Axes>"
      ]
     },
     "metadata": {},
     "output_type": "display_data"
    },
    {
     "name": "stdout",
     "output_type": "stream",
     "text": [
      "Valid:\n",
      "\tAverage loss: 4.1085\n",
      "\tMean error: 127.507\n",
      "\tMean absolute error: 127.507\n",
      "\tError deviation: 11.666\n",
      "\n",
      "--------------------------------------------------------------------------------\n",
      "\n",
      "Epoch 48\n",
      "\n"
     ]
    },
    {
     "data": {
      "text/plain": [
       "<Figure size 432x288 with 0 Axes>"
      ]
     },
     "metadata": {},
     "output_type": "display_data"
    },
    {
     "name": "stdout",
     "output_type": "stream",
     "text": [
      "Train:\n",
      "\tAverage loss: 0.6211\n",
      "\tMean error: 44.754\n",
      "\tMean absolute error: 71.950\n",
      "\tError deviation: 12.490\n"
     ]
    },
    {
     "data": {
      "text/plain": [
       "<Figure size 432x288 with 0 Axes>"
      ]
     },
     "metadata": {},
     "output_type": "display_data"
    },
    {
     "name": "stdout",
     "output_type": "stream",
     "text": [
      "Valid:\n",
      "\tAverage loss: 4.1093\n",
      "\tMean error: 127.715\n",
      "\tMean absolute error: 127.715\n",
      "\tError deviation: 11.684\n",
      "\n",
      "--------------------------------------------------------------------------------\n",
      "\n",
      "Epoch 49\n",
      "\n"
     ]
    },
    {
     "data": {
      "text/plain": [
       "<Figure size 432x288 with 0 Axes>"
      ]
     },
     "metadata": {},
     "output_type": "display_data"
    },
    {
     "name": "stdout",
     "output_type": "stream",
     "text": [
      "Train:\n",
      "\tAverage loss: 0.6198\n",
      "\tMean error: 44.825\n",
      "\tMean absolute error: 71.982\n",
      "\tError deviation: 12.490\n"
     ]
    },
    {
     "data": {
      "text/plain": [
       "<Figure size 432x288 with 0 Axes>"
      ]
     },
     "metadata": {},
     "output_type": "display_data"
    },
    {
     "name": "stdout",
     "output_type": "stream",
     "text": [
      "Valid:\n",
      "\tAverage loss: 4.1103\n",
      "\tMean error: 127.799\n",
      "\tMean absolute error: 127.799\n",
      "\tError deviation: 11.694\n",
      "\n",
      "--------------------------------------------------------------------------------\n",
      "\n",
      "Epoch 50\n",
      "\n"
     ]
    },
    {
     "data": {
      "text/plain": [
       "<Figure size 432x288 with 0 Axes>"
      ]
     },
     "metadata": {},
     "output_type": "display_data"
    },
    {
     "name": "stdout",
     "output_type": "stream",
     "text": [
      "Train:\n",
      "\tAverage loss: 0.6186\n",
      "\tMean error: 44.887\n",
      "\tMean absolute error: 72.010\n",
      "\tError deviation: 12.491\n"
     ]
    },
    {
     "data": {
      "text/plain": [
       "<Figure size 432x288 with 0 Axes>"
      ]
     },
     "metadata": {},
     "output_type": "display_data"
    },
    {
     "name": "stdout",
     "output_type": "stream",
     "text": [
      "Valid:\n",
      "\tAverage loss: 4.1112\n",
      "\tMean error: 127.976\n",
      "\tMean absolute error: 127.976\n",
      "\tError deviation: 11.709\n",
      "\n",
      "--------------------------------------------------------------------------------\n",
      "\n",
      "[Training done] Best result: 55.15253487723216\n"
     ]
    },
    {
     "data": {
      "text/plain": [
       "<Figure size 432x288 with 0 Axes>"
      ]
     },
     "metadata": {},
     "output_type": "display_data"
    }
   ],
   "source": [
    "from train import train\n",
    "from train import get_loader\n",
    "\n",
    "data_loader = get_loader('cell')\n",
    "train(device, data_loader, epochs = 50, plot = True)"
   ]
  },
  {
   "cell_type": "code",
   "execution_count": null,
   "metadata": {},
   "outputs": [],
   "source": []
  },
  {
   "cell_type": "code",
   "execution_count": null,
   "metadata": {},
   "outputs": [],
   "source": []
  }
 ],
 "metadata": {
  "kernelspec": {
   "display_name": "Python 3",
   "language": "python",
   "name": "python3"
  },
  "language_info": {
   "codemirror_mode": {
    "name": "ipython",
    "version": 3
   },
   "file_extension": ".py",
   "mimetype": "text/x-python",
   "name": "python",
   "nbconvert_exporter": "python",
   "pygments_lexer": "ipython3",
   "version": "3.8.5"
  }
 },
 "nbformat": 4,
 "nbformat_minor": 4
}
